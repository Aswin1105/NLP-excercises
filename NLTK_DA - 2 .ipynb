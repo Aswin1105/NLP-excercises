{
 "cells": [
  {
   "cell_type": "code",
   "execution_count": 3,
   "id": "93028574",
   "metadata": {},
   "outputs": [],
   "source": [
    "txtc=\"\"\"When I was a small child my grandparents would take me blackberry picking. It was usually late August when the blackberries had full ripened. Grandad would drive us is in his old van. Despite not being comfortable or particularly safe, Grandad’s vans had a character you would not find in a sleek new car complete with the latest innovations and a silent engine. Being seven or eight at the time, I always enjoyed a trip as we bounced along to our destination.\n",
    "My grandparents always chose the same spot. Wild blackberry bushes stretched along the roadside as far as the eye could see in both directions. The road overlooked a small pitch and putt course. On such sunny summer days it was always full. Golfers ambled sedately from hole to hole and the crack of metal striking ball was a constant accompaniment.\"\"\" "
   ]
  },
  {
   "cell_type": "code",
   "execution_count": 4,
   "id": "9f5f2e77",
   "metadata": {},
   "outputs": [
    {
     "data": {
      "text/plain": [
       "810"
      ]
     },
     "execution_count": 4,
     "metadata": {},
     "output_type": "execute_result"
    }
   ],
   "source": [
    "len(txtc)"
   ]
  },
  {
   "cell_type": "code",
   "execution_count": 5,
   "id": "5ab90544",
   "metadata": {},
   "outputs": [],
   "source": [
    "#To do\n",
    "#Word segmentation\n",
    "#Sentence segmentation\n",
    "#Convert to Lowercase\n",
    "#Stop words removal\n",
    "#Stemming\n",
    "#Lemmatization\n",
    "#Part of speech tagger"
   ]
  },
  {
   "cell_type": "code",
   "execution_count": 6,
   "id": "e561ce13",
   "metadata": {},
   "outputs": [
    {
     "data": {
      "text/plain": [
       "['When I was a small child my grandparents would take me blackberry picking',\n",
       " ' It was usually late August when the blackberries had full ripened',\n",
       " ' Grandad would drive us is in his old van',\n",
       " ' Despite not being comfortable or particularly safe, Grandad’s vans had a character you would not find in a sleek new car complete with the latest innovations and a silent engine',\n",
       " ' Being seven or eight at the time, I always enjoyed a trip as we bounced along to our destination',\n",
       " '',\n",
       " 'My grandparents always chose the same spot',\n",
       " ' Wild blackberry bushes stretched along the roadside as far as the eye could see in both directions',\n",
       " ' The road overlooked a small pitch and putt course',\n",
       " ' On such sunny summer days it was always full',\n",
       " ' Golfers ambled sedately from hole to hole and the crack of metal striking ball was a constant accompaniment',\n",
       " '']"
      ]
     },
     "execution_count": 6,
     "metadata": {},
     "output_type": "execute_result"
    }
   ],
   "source": [
    "#sentence segmentation\n",
    "import re\n",
    "sen_txtc = re.split(\"[!?.\\n]\",txtc)\n",
    "sen_txtc"
   ]
  },
  {
   "cell_type": "code",
   "execution_count": 8,
   "id": "6da1e5be",
   "metadata": {},
   "outputs": [
    {
     "data": {
      "text/plain": [
       "['When',\n",
       " 'I',\n",
       " 'was',\n",
       " 'a',\n",
       " 'small',\n",
       " 'child',\n",
       " 'my',\n",
       " 'grandparents',\n",
       " 'would',\n",
       " 'take',\n",
       " 'me',\n",
       " 'blackberry',\n",
       " 'picking.',\n",
       " 'It',\n",
       " 'was']"
      ]
     },
     "execution_count": 8,
     "metadata": {},
     "output_type": "execute_result"
    }
   ],
   "source": [
    "#word segmentation\n",
    "word_txtc = re.split(\"[\\s]\",txtc)\n",
    "word_txtc[0:15]"
   ]
  },
  {
   "cell_type": "code",
   "execution_count": 9,
   "id": "f9f57e95",
   "metadata": {},
   "outputs": [
    {
     "data": {
      "text/plain": [
       "['when',\n",
       " 'i',\n",
       " 'was',\n",
       " 'a',\n",
       " 'small',\n",
       " 'child',\n",
       " 'my',\n",
       " 'grandparents',\n",
       " 'would',\n",
       " 'take',\n",
       " 'me',\n",
       " 'blackberry',\n",
       " 'picking.',\n",
       " 'it',\n",
       " 'was']"
      ]
     },
     "execution_count": 9,
     "metadata": {},
     "output_type": "execute_result"
    }
   ],
   "source": [
    "lower_txtc = [i.lower()for i in word_txtc[0:15]]\n",
    "lower_txtc"
   ]
  },
  {
   "cell_type": "code",
   "execution_count": 16,
   "id": "3b9dccc9",
   "metadata": {},
   "outputs": [
    {
     "name": "stderr",
     "output_type": "stream",
     "text": [
      "[nltk_data] Downloading package stopwords to\n",
      "[nltk_data]     C:\\Users\\User\\AppData\\Roaming\\nltk_data...\n",
      "[nltk_data]   Package stopwords is already up-to-date!\n",
      "[nltk_data] Downloading package averaged_perceptron_tagger to\n",
      "[nltk_data]     C:\\Users\\User\\AppData\\Roaming\\nltk_data...\n",
      "[nltk_data]   Unzipping taggers\\averaged_perceptron_tagger.zip.\n"
     ]
    },
    {
     "data": {
      "text/plain": [
       "True"
      ]
     },
     "execution_count": 16,
     "metadata": {},
     "output_type": "execute_result"
    }
   ],
   "source": [
    "import nltk\n",
    "nltk.download('stopwords')\n",
    "nltk.download('averaged_perceptron_tagger')"
   ]
  },
  {
   "cell_type": "code",
   "execution_count": 12,
   "id": "48c217e4",
   "metadata": {
    "scrolled": true
   },
   "outputs": [
    {
     "data": {
      "text/plain": [
       "['When',\n",
       " 'I',\n",
       " 'small',\n",
       " 'child',\n",
       " 'grandparents',\n",
       " 'would',\n",
       " 'take',\n",
       " 'blackberry',\n",
       " 'picking.',\n",
       " 'It',\n",
       " 'usually',\n",
       " 'late',\n",
       " 'August',\n",
       " 'blackberries',\n",
       " 'full',\n",
       " 'ripened.',\n",
       " 'Grandad',\n",
       " 'would',\n",
       " 'drive',\n",
       " 'us',\n",
       " 'old',\n",
       " 'van.',\n",
       " 'Despite',\n",
       " 'comfortable',\n",
       " 'particularly',\n",
       " 'safe,',\n",
       " 'Grandad’s',\n",
       " 'vans',\n",
       " 'character',\n",
       " 'would',\n",
       " 'find',\n",
       " 'sleek',\n",
       " 'new',\n",
       " 'car',\n",
       " 'complete',\n",
       " 'latest',\n",
       " 'innovations',\n",
       " 'silent',\n",
       " 'engine.',\n",
       " 'Being',\n",
       " 'seven',\n",
       " 'eight',\n",
       " 'time,',\n",
       " 'I',\n",
       " 'always',\n",
       " 'enjoyed',\n",
       " 'trip',\n",
       " 'bounced',\n",
       " 'along',\n",
       " 'destination.',\n",
       " 'My',\n",
       " 'grandparents',\n",
       " 'always',\n",
       " 'chose',\n",
       " 'spot.',\n",
       " 'Wild',\n",
       " 'blackberry',\n",
       " 'bushes',\n",
       " 'stretched',\n",
       " 'along',\n",
       " 'roadside',\n",
       " 'far',\n",
       " 'eye',\n",
       " 'could',\n",
       " 'see',\n",
       " 'directions.',\n",
       " 'The',\n",
       " 'road',\n",
       " 'overlooked',\n",
       " 'small',\n",
       " 'pitch',\n",
       " 'putt',\n",
       " 'course.',\n",
       " 'On',\n",
       " 'sunny',\n",
       " 'summer',\n",
       " 'days',\n",
       " 'always',\n",
       " 'full.',\n",
       " 'Golfers',\n",
       " 'ambled',\n",
       " 'sedately',\n",
       " 'hole',\n",
       " 'hole',\n",
       " 'crack',\n",
       " 'metal',\n",
       " 'striking',\n",
       " 'ball',\n",
       " 'constant',\n",
       " 'accompaniment.']"
      ]
     },
     "execution_count": 12,
     "metadata": {},
     "output_type": "execute_result"
    }
   ],
   "source": [
    "from nltk.corpus import stopwords\n",
    "stopwords = stopwords.words(\"english\")\n",
    "remove_stopwords = [i for i in word_txtc if i not in stopwords]\n",
    "remove_stopwords"
   ]
  },
  {
   "cell_type": "code",
   "execution_count": 13,
   "id": "d22a42c7",
   "metadata": {},
   "outputs": [
    {
     "data": {
      "text/plain": [
       "['When',\n",
       " 'I',\n",
       " 'was',\n",
       " 'a',\n",
       " 'small',\n",
       " 'child',\n",
       " 'my',\n",
       " 'grandparents',\n",
       " 'would',\n",
       " 'take',\n",
       " 'me',\n",
       " 'blackberry',\n",
       " 'picking.',\n",
       " 'It',\n",
       " 'was',\n",
       " 'usually',\n",
       " 'late',\n",
       " 'August',\n",
       " 'when',\n",
       " 'the',\n",
       " 'blackberries',\n",
       " 'had',\n",
       " 'full',\n",
       " 'ripened.',\n",
       " 'Grandad',\n",
       " 'would',\n",
       " 'drive',\n",
       " 'us',\n",
       " 'is',\n",
       " 'in',\n",
       " 'his',\n",
       " 'old',\n",
       " 'van.',\n",
       " 'Despite',\n",
       " 'not',\n",
       " 'being',\n",
       " 'comfortable',\n",
       " 'or',\n",
       " 'particularly',\n",
       " 'safe,',\n",
       " 'Grandad’s',\n",
       " 'vans',\n",
       " 'had',\n",
       " 'a',\n",
       " 'character',\n",
       " 'you',\n",
       " 'would',\n",
       " 'not',\n",
       " 'find',\n",
       " 'in',\n",
       " 'a',\n",
       " 'sleek',\n",
       " 'new',\n",
       " 'car',\n",
       " 'complete',\n",
       " 'with',\n",
       " 'the',\n",
       " 'latest',\n",
       " 'innovations',\n",
       " 'and',\n",
       " 'a',\n",
       " 'silent',\n",
       " 'engine.',\n",
       " 'Being',\n",
       " 'seven',\n",
       " 'or',\n",
       " 'eight',\n",
       " 'at',\n",
       " 'the',\n",
       " 'time,',\n",
       " 'I',\n",
       " 'always',\n",
       " 'enjoyed',\n",
       " 'a',\n",
       " 'trip',\n",
       " 'as',\n",
       " 'we',\n",
       " 'bounced',\n",
       " 'along',\n",
       " 'to',\n",
       " 'our',\n",
       " 'destination.',\n",
       " 'My',\n",
       " 'grandparents',\n",
       " 'always',\n",
       " 'chose',\n",
       " 'the',\n",
       " 'same',\n",
       " 'spot.',\n",
       " 'Wild',\n",
       " 'blackberry',\n",
       " 'bushes',\n",
       " 'stretched',\n",
       " 'along',\n",
       " 'the',\n",
       " 'roadside',\n",
       " 'as',\n",
       " 'far',\n",
       " 'as',\n",
       " 'the',\n",
       " 'eye',\n",
       " 'could',\n",
       " 'see',\n",
       " 'in',\n",
       " 'both',\n",
       " 'directions.',\n",
       " 'The',\n",
       " 'road',\n",
       " 'overlooked',\n",
       " 'a',\n",
       " 'small',\n",
       " 'pitch',\n",
       " 'and',\n",
       " 'putt',\n",
       " 'course.',\n",
       " 'On',\n",
       " 'such',\n",
       " 'sunny',\n",
       " 'summer',\n",
       " 'days',\n",
       " 'it',\n",
       " 'was',\n",
       " 'always',\n",
       " 'full.',\n",
       " 'Golfers',\n",
       " 'ambled',\n",
       " 'sedately',\n",
       " 'from',\n",
       " 'hole',\n",
       " 'to',\n",
       " 'hole',\n",
       " 'and',\n",
       " 'the',\n",
       " 'crack',\n",
       " 'of',\n",
       " 'metal',\n",
       " 'striking',\n",
       " 'ball',\n",
       " 'was',\n",
       " 'a',\n",
       " 'constant',\n",
       " 'accompaniment.']"
      ]
     },
     "execution_count": 13,
     "metadata": {},
     "output_type": "execute_result"
    }
   ],
   "source": [
    "import string\n",
    "remove_punctuations = [i for i in word_txtc if i not in string.punctuation]\n",
    "remove_punctuations"
   ]
  },
  {
   "cell_type": "code",
   "execution_count": 17,
   "id": "29cadb80",
   "metadata": {},
   "outputs": [
    {
     "data": {
      "text/plain": [
       "[('I', 'PRP'),\n",
       " ('was', 'VBD'),\n",
       " ('a', 'DT'),\n",
       " ('small', 'JJ'),\n",
       " ('child', 'NN'),\n",
       " ('my', 'PRP$'),\n",
       " ('grandparents', 'NNS'),\n",
       " ('would', 'MD'),\n",
       " ('take', 'VB'),\n",
       " ('me', 'PRP'),\n",
       " ('blackberry', 'VB'),\n",
       " ('picking.', 'IN'),\n",
       " ('It', 'PRP'),\n",
       " ('was', 'VBD')]"
      ]
     },
     "execution_count": 17,
     "metadata": {},
     "output_type": "execute_result"
    }
   ],
   "source": [
    "pos_tag=nltk.pos_tag(remove_punctuations)\n",
    "pos_tag[1:15]"
   ]
  },
  {
   "cell_type": "code",
   "execution_count": 18,
   "id": "48adb2b3",
   "metadata": {},
   "outputs": [
    {
     "name": "stderr",
     "output_type": "stream",
     "text": [
      "[nltk_data] Downloading package wordnet to\n",
      "[nltk_data]     C:\\Users\\User\\AppData\\Roaming\\nltk_data...\n",
      "[nltk_data]   Package wordnet is already up-to-date!\n",
      "[nltk_data] Downloading package omw-1.4 to\n",
      "[nltk_data]     C:\\Users\\User\\AppData\\Roaming\\nltk_data...\n"
     ]
    },
    {
     "data": {
      "text/plain": [
       "True"
      ]
     },
     "execution_count": 18,
     "metadata": {},
     "output_type": "execute_result"
    }
   ],
   "source": [
    "nltk.download('wordnet')\n",
    "nltk.download('omw-1.4')"
   ]
  },
  {
   "cell_type": "code",
   "execution_count": 23,
   "id": "7beef0c8",
   "metadata": {},
   "outputs": [
    {
     "data": {
      "text/plain": [
       "['usually',\n",
       " 'late',\n",
       " 'August',\n",
       " 'when',\n",
       " 'the',\n",
       " 'blackberry',\n",
       " 'had',\n",
       " 'full',\n",
       " 'ripened.',\n",
       " 'Grandad',\n",
       " 'would',\n",
       " 'drive',\n",
       " 'u',\n",
       " 'is',\n",
       " 'in']"
      ]
     },
     "execution_count": 23,
     "metadata": {},
     "output_type": "execute_result"
    }
   ],
   "source": [
    "from nltk.stem import WordNetLemmatizer as lemma \n",
    "lem = lemma()\n",
    "Lemma = [lem.lemmatize(word) for word in word_txtc]\n",
    "Lemma[15:30]"
   ]
  },
  {
   "cell_type": "code",
   "execution_count": 26,
   "id": "3312e438",
   "metadata": {},
   "outputs": [
    {
     "data": {
      "text/plain": [
       "['i',\n",
       " 'wa',\n",
       " 'a',\n",
       " 'small',\n",
       " 'child',\n",
       " 'my',\n",
       " 'grandpar',\n",
       " 'would',\n",
       " 'take',\n",
       " 'me',\n",
       " 'blackberri',\n",
       " 'picking.',\n",
       " 'it',\n",
       " 'wa',\n",
       " 'usual',\n",
       " 'late',\n",
       " 'august',\n",
       " 'when',\n",
       " 'the']"
      ]
     },
     "execution_count": 26,
     "metadata": {},
     "output_type": "execute_result"
    }
   ],
   "source": [
    "from nltk.stem import PorterStemmer\n",
    "ps = PorterStemmer() \n",
    "stem_txtc = [ps.stem(word) for word in word_txtc]\n",
    "stem_txtc[1:20]"
   ]
  },
  {
   "cell_type": "code",
   "execution_count": null,
   "id": "9a7dec15",
   "metadata": {},
   "outputs": [],
   "source": []
  }
 ],
 "metadata": {
  "kernelspec": {
   "display_name": "Python 3",
   "language": "python",
   "name": "python3"
  },
  "language_info": {
   "codemirror_mode": {
    "name": "ipython",
    "version": 3
   },
   "file_extension": ".py",
   "mimetype": "text/x-python",
   "name": "python",
   "nbconvert_exporter": "python",
   "pygments_lexer": "ipython3",
   "version": "3.8.8"
  }
 },
 "nbformat": 4,
 "nbformat_minor": 5
}
