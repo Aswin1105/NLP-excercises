{
 "cells": [
  {
   "cell_type": "code",
   "execution_count": 1,
   "id": "7c825274",
   "metadata": {
    "scrolled": true
   },
   "outputs": [
    {
     "name": "stderr",
     "output_type": "stream",
     "text": [
      "[nltk_data] Downloading package brown to\n",
      "[nltk_data]     C:\\Users\\User\\AppData\\Roaming\\nltk_data...\n",
      "[nltk_data]   Package brown is already up-to-date!\n"
     ]
    },
    {
     "data": {
      "text/plain": [
       "True"
      ]
     },
     "execution_count": 1,
     "metadata": {},
     "output_type": "execute_result"
    }
   ],
   "source": [
    "#pip install nltk\n",
    "import nltk\n",
    "nltk.download('brown')"
   ]
  },
  {
   "cell_type": "code",
   "execution_count": 12,
   "id": "d703f802",
   "metadata": {},
   "outputs": [],
   "source": [
    "#Brown corpous analysis\n",
    "from nltk.corpus import brown"
   ]
  },
  {
   "cell_type": "code",
   "execution_count": 23,
   "id": "37dcc2eb",
   "metadata": {},
   "outputs": [
    {
     "name": "stdout",
     "output_type": "stream",
     "text": [
      "15\n",
      "adventure -- <FreqDist with 8289 samples and 69342 outcomes>\n",
      "belles_lettres -- <FreqDist with 17058 samples and 173096 outcomes>\n",
      "editorial -- <FreqDist with 9109 samples and 61604 outcomes>\n",
      "fiction -- <FreqDist with 8680 samples and 68488 outcomes>\n",
      "government -- <FreqDist with 7361 samples and 70117 outcomes>\n",
      "hobbies -- <FreqDist with 10824 samples and 82345 outcomes>\n",
      "humor -- <FreqDist with 4755 samples and 21695 outcomes>\n",
      "learned -- <FreqDist with 15476 samples and 181888 outcomes>\n",
      "lore -- <FreqDist with 13403 samples and 110299 outcomes>\n",
      "mystery -- <FreqDist with 6463 samples and 57169 outcomes>\n",
      "news -- <FreqDist with 13112 samples and 100554 outcomes>\n",
      "religion -- <FreqDist with 5931 samples and 39399 outcomes>\n",
      "reviews -- <FreqDist with 8069 samples and 40704 outcomes>\n",
      "romance -- <FreqDist with 7883 samples and 70022 outcomes>\n",
      "science_fiction -- <FreqDist with 3032 samples and 14470 outcomes>\n"
     ]
    }
   ],
   "source": [
    "#Q1\n",
    "#size\n",
    "#categories\n",
    "print(len(brown.categories()))\n",
    "#tokens\n",
    "for i in brown.categories():\n",
    "    print(i,\"--\",end=\" \")\n",
    "    fdist = nltk.FreqDist(w.lower() for w in brown.words(categories=i))\n",
    "    print(fdist)"
   ]
  },
  {
   "cell_type": "code",
   "execution_count": 26,
   "id": "b29b0797",
   "metadata": {},
   "outputs": [
    {
     "name": "stdout",
     "output_type": "stream",
     "text": [
      "the-- 4621\n",
      ",-- 3405\n",
      "of-- 3059\n",
      ".-- 2493\n",
      "and-- 1948\n"
     ]
    }
   ],
   "source": [
    "fdist = nltk.FreqDist(w.lower() for w in brown.words(categories=\"government\"))\n",
    "cnt=0\n",
    "#most frequent tokens in government\n",
    "for i in fdist:\n",
    "    if cnt<5:\n",
    "        print(i+\"--\",fdist[i])\n",
    "        cnt+=1"
   ]
  },
  {
   "cell_type": "code",
   "execution_count": 29,
   "id": "7886e4e8",
   "metadata": {},
   "outputs": [
    {
     "name": "stdout",
     "output_type": "stream",
     "text": [
      ".-- 2493\n",
      "?-- 62\n",
      "!-- 2\n",
      "total no of sentences 2557\n"
     ]
    }
   ],
   "source": [
    "# by counting no of delimiters we can count the no of sentences\n",
    "co_deli = [\".\",\"?\",\"!\"]\n",
    "sentences = 0\n",
    "for i in co_deli:\n",
    "    print(i+\"--\",fdist[i])\n",
    "    sentences += fdist[i]\n",
    "print(f\"total no of sentences {sentences}\")"
   ]
  },
  {
   "cell_type": "code",
   "execution_count": 4,
   "id": "e37c618e",
   "metadata": {},
   "outputs": [
    {
     "data": {
      "text/plain": [
       "True"
      ]
     },
     "execution_count": 4,
     "metadata": {},
     "output_type": "execute_result"
    }
   ],
   "source": [
    "\"ticket\" in \" i need a train tickets from to check\""
   ]
  },
  {
   "cell_type": "code",
   "execution_count": 2,
   "id": "e31549e6",
   "metadata": {},
   "outputs": [
    {
     "name": "stderr",
     "output_type": "stream",
     "text": [
      "[nltk_data] Downloading package webtext to\n",
      "[nltk_data]     C:\\Users\\User\\AppData\\Roaming\\nltk_data...\n",
      "[nltk_data]   Unzipping corpora\\webtext.zip.\n"
     ]
    },
    {
     "data": {
      "text/plain": [
       "True"
      ]
     },
     "execution_count": 2,
     "metadata": {},
     "output_type": "execute_result"
    }
   ],
   "source": [
    "nltk.download('webtext')"
   ]
  },
  {
   "cell_type": "code",
   "execution_count": 3,
   "id": "fa47a7bf",
   "metadata": {},
   "outputs": [
    {
     "name": "stdout",
     "output_type": "stream",
     "text": [
      "firefox.txt Cookie Manager: \"Don't allow sites that set removed cookies to se ...\n",
      "grail.txt SCENE 1: [wind] [clop clop clop] \n",
      "KING ARTHUR: Whoa there!  [clop ...\n",
      "overheard.txt White guy: So, do you have any plans for this evening?\n",
      "Asian girl ...\n",
      "pirates.txt PIRATES OF THE CARRIBEAN: DEAD MAN'S CHEST, by Ted Elliott & Terr ...\n",
      "singles.txt 25 SEXY MALE, seeks attrac older single lady, for discreet encoun ...\n",
      "wine.txt Lovely delicate, fragrant Rhone wine. Polished leather and strawb ...\n"
     ]
    }
   ],
   "source": [
    "#webtext corpus\n",
    "from nltk.corpus import webtext\n",
    "for fileid in webtext.fileids():\n",
    "  print(fileid, webtext.raw(fileid)[:65], '...')"
   ]
  },
  {
   "cell_type": "code",
   "execution_count": 4,
   "id": "0fcc08d2",
   "metadata": {},
   "outputs": [
    {
     "name": "stderr",
     "output_type": "stream",
     "text": [
      "[nltk_data] Downloading package reuters to\n",
      "[nltk_data]     C:\\Users\\User\\AppData\\Roaming\\nltk_data...\n"
     ]
    },
    {
     "data": {
      "text/plain": [
       "True"
      ]
     },
     "execution_count": 4,
     "metadata": {},
     "output_type": "execute_result"
    }
   ],
   "source": [
    "#webtext corpus\n",
    "nltk.download('reuters')"
   ]
  },
  {
   "cell_type": "code",
   "execution_count": 7,
   "id": "9dba8f0f",
   "metadata": {},
   "outputs": [
    {
     "data": {
      "text/plain": [
       "['acq',\n",
       " 'alum',\n",
       " 'barley',\n",
       " 'bop',\n",
       " 'carcass',\n",
       " 'castor-oil',\n",
       " 'cocoa',\n",
       " 'coconut',\n",
       " 'coconut-oil',\n",
       " 'coffee',\n",
       " 'copper',\n",
       " 'copra-cake',\n",
       " 'corn',\n",
       " 'cotton',\n",
       " 'cotton-oil',\n",
       " 'cpi']"
      ]
     },
     "execution_count": 7,
     "metadata": {},
     "output_type": "execute_result"
    }
   ],
   "source": [
    "#reuters corpus\n",
    "from nltk.corpus import reuters\n",
    "reuters.categories()[0:16]"
   ]
  },
  {
   "cell_type": "code",
   "execution_count": 6,
   "id": "60eaa144",
   "metadata": {},
   "outputs": [
    {
     "name": "stderr",
     "output_type": "stream",
     "text": [
      "[nltk_data] Downloading package inaugural to\n",
      "[nltk_data]     C:\\Users\\User\\AppData\\Roaming\\nltk_data...\n",
      "[nltk_data]   Unzipping corpora\\inaugural.zip.\n"
     ]
    },
    {
     "data": {
      "text/plain": [
       "['1789-Washington.txt',\n",
       " '1793-Washington.txt',\n",
       " '1797-Adams.txt',\n",
       " '1801-Jefferson.txt',\n",
       " '1805-Jefferson.txt',\n",
       " '1809-Madison.txt',\n",
       " '1813-Madison.txt',\n",
       " '1817-Monroe.txt',\n",
       " '1821-Monroe.txt',\n",
       " '1825-Adams.txt',\n",
       " '1829-Jackson.txt',\n",
       " '1833-Jackson.txt',\n",
       " '1837-VanBuren.txt',\n",
       " '1841-Harrison.txt',\n",
       " '1845-Polk.txt']"
      ]
     },
     "execution_count": 6,
     "metadata": {},
     "output_type": "execute_result"
    }
   ],
   "source": [
    "#inaugral corpus\n",
    "nltk.download('inaugural')\n",
    "from nltk.corpus import inaugural\n",
    "inaugural.fileids()[0:15]"
   ]
  }
 ],
 "metadata": {
  "kernelspec": {
   "display_name": "Python 3",
   "language": "python",
   "name": "python3"
  },
  "language_info": {
   "codemirror_mode": {
    "name": "ipython",
    "version": 3
   },
   "file_extension": ".py",
   "mimetype": "text/x-python",
   "name": "python",
   "nbconvert_exporter": "python",
   "pygments_lexer": "ipython3",
   "version": "3.8.8"
  }
 },
 "nbformat": 4,
 "nbformat_minor": 5
}
